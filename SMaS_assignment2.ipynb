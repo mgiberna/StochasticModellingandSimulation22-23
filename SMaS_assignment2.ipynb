{
  "nbformat": 4,
  "nbformat_minor": 0,
  "metadata": {
    "colab": {
      "provenance": []
    },
    "kernelspec": {
      "name": "python3",
      "display_name": "Python 3"
    },
    "language_info": {
      "name": "python"
    }
  },
  "cells": [
    {
      "cell_type": "markdown",
      "source": [
        "# Exercise 1\n",
        "\n",
        "Let $X_{t}$ a DTMC with stochastic matrix $A= \\begin{bmatrix} 0 & 1 & 0 & 0 &0  \\\\  \\frac{a}{a+b} & 0 & \\frac{b}{a+b} & 0 & 0 \\\\ 0 & \\frac{a}{a+b} & 0 & \\frac{b}{a+b} & 0 \\\\ 0 & 0 & \\frac{a}{a+b} & 0 & \\frac{b}{a+b} \\\\ 0 & 0 & 0 & 1 & 0 \\end{bmatrix}$ with $a=3, b=2$.\n",
        "\n",
        "The DTMC is time homogeneous.\n",
        "\n"
      ],
      "metadata": {
        "id": "nIeXECX5Er4G"
      }
    },
    {
      "cell_type": "markdown",
      "source": [
        "## Point 1\n",
        "Prove that it is irreducible."
      ],
      "metadata": {
        "id": "qKwYv5gHJg2s"
      }
    },
    {
      "cell_type": "code",
      "source": [
        "!pip install pydtmc\n",
        "import pydtmc\n",
        "import numpy as np\n",
        "import scipy\n",
        "import matplotlib.pyplot as plt\n",
        "\n",
        "# parameters\n",
        "a = 3\n",
        "b = 2\n",
        "\n",
        "# stochastic matrix\n",
        "A =np.array([[0, 1, 0, 0, 0],\n",
        "            [a/(a+b), 0, b/(a+b), 0, 0],\n",
        "            [0, a/(a+b), 0, b/(a+b), 0],\n",
        "            [0, 0, a/(a+b), 0, b/(a+b)],\n",
        "            [0, 0, 0, 1, 0]])\n",
        "print(A)\n",
        "\n",
        "# markov chain\n",
        "model = pydtmc.MarkovChain(A)\n",
        "print(model.states)\n",
        "print(model)\n",
        "print(pydtmc.plot_graph(model))\n"
      ],
      "metadata": {
        "colab": {
          "base_uri": "https://localhost:8080/",
          "height": 1000
        },
        "id": "Xof7Bc81EvDw",
        "outputId": "cb533750-a443-4591-fe8b-7a6fa4070049"
      },
      "execution_count": null,
      "outputs": [
        {
          "output_type": "stream",
          "name": "stdout",
          "text": [
            "Looking in indexes: https://pypi.org/simple, https://us-python.pkg.dev/colab-wheels/public/simple/\n",
            "Collecting pydtmc\n",
            "  Downloading PyDTMC-8.2.0-py3-none-any.whl (73 kB)\n",
            "\u001b[2K     \u001b[90m━━━━━━━━━━━━━━━━━━━━━━━━━━━━━━━━━━━━━━━━\u001b[0m \u001b[32m74.0/74.0 kB\u001b[0m \u001b[31m3.6 MB/s\u001b[0m eta \u001b[36m0:00:00\u001b[0m\n",
            "\u001b[?25hRequirement already satisfied: matplotlib in /usr/local/lib/python3.10/dist-packages (from pydtmc) (3.7.1)\n",
            "Requirement already satisfied: networkx in /usr/local/lib/python3.10/dist-packages (from pydtmc) (3.1)\n",
            "Requirement already satisfied: numpy in /usr/local/lib/python3.10/dist-packages (from pydtmc) (1.22.4)\n",
            "Requirement already satisfied: scipy in /usr/local/lib/python3.10/dist-packages (from pydtmc) (1.10.1)\n",
            "Requirement already satisfied: contourpy>=1.0.1 in /usr/local/lib/python3.10/dist-packages (from matplotlib->pydtmc) (1.0.7)\n",
            "Requirement already satisfied: cycler>=0.10 in /usr/local/lib/python3.10/dist-packages (from matplotlib->pydtmc) (0.11.0)\n",
            "Requirement already satisfied: fonttools>=4.22.0 in /usr/local/lib/python3.10/dist-packages (from matplotlib->pydtmc) (4.39.3)\n",
            "Requirement already satisfied: kiwisolver>=1.0.1 in /usr/local/lib/python3.10/dist-packages (from matplotlib->pydtmc) (1.4.4)\n",
            "Requirement already satisfied: packaging>=20.0 in /usr/local/lib/python3.10/dist-packages (from matplotlib->pydtmc) (23.1)\n",
            "Requirement already satisfied: pillow>=6.2.0 in /usr/local/lib/python3.10/dist-packages (from matplotlib->pydtmc) (8.4.0)\n",
            "Requirement already satisfied: pyparsing>=2.3.1 in /usr/local/lib/python3.10/dist-packages (from matplotlib->pydtmc) (3.0.9)\n",
            "Requirement already satisfied: python-dateutil>=2.7 in /usr/local/lib/python3.10/dist-packages (from matplotlib->pydtmc) (2.8.2)\n",
            "Requirement already satisfied: six>=1.5 in /usr/local/lib/python3.10/dist-packages (from python-dateutil>=2.7->matplotlib->pydtmc) (1.16.0)\n",
            "Installing collected packages: pydtmc\n",
            "Successfully installed pydtmc-8.2.0\n",
            "[[0.  1.  0.  0.  0. ]\n",
            " [0.6 0.  0.4 0.  0. ]\n",
            " [0.  0.6 0.  0.4 0. ]\n",
            " [0.  0.  0.6 0.  0.4]\n",
            " [0.  0.  0.  1.  0. ]]\n",
            "['1', '2', '3', '4', '5']\n",
            "\n",
            "DISCRETE-TIME MARKOV CHAIN\n",
            " SIZE:           5\n",
            " RANK:           4\n",
            " CLASSES:        1\n",
            "  > RECURRENT:   1\n",
            "  > TRANSIENT:   0\n",
            " ERGODIC:        NO\n",
            "  > APERIODIC:   NO (2)\n",
            "  > IRREDUCIBLE: YES\n",
            " ABSORBING:      NO\n",
            " REGULAR:        NO\n",
            " REVERSIBLE:     YES\n",
            " SYMMETRIC:      NO\n",
            "\n"
          ]
        },
        {
          "output_type": "display_data",
          "data": {
            "text/plain": [
              "<Figure size 91.3x545.6 with 1 Axes>"
            ],
            "image/png": "[encoded data removed]"
          },
          "metadata": {}
        },
        {
          "output_type": "stream",
          "name": "stdout",
          "text": [
            "None\n"
          ]
        }
      ]
    },
    {
      "cell_type": "markdown",
      "source": [
        "As we can see, it is irreducible, as it is clearly written above.\n",
        "\n",
        "However, we can also prove that as follow.\n",
        "Let us remember that to show that a DTMC is irreducible, we need to show that for any two states $i$ and $j$, there exists a sequence of states such that the probability of transitioning from $i$ to $j$ is positive.\n",
        "\n",
        "We can see that state 1 can transition to state 2 and state 2 can transition to state 1. Similarly, state 2 can transition to state 3 and state 3 can transition to state 2. The resoning keeps on going for the remaining states. Thus, every state can reach every other state with positive probability. Hence, the DTMC is irreducible."
      ],
      "metadata": {
        "id": "XelSdrmULSs7"
      }
    },
    {
      "cell_type": "markdown",
      "source": [
        "## Point 2\n",
        "\n",
        "Prove with probability simulation and with eigenvalues analysis that the DTMC has only a stationary distribution howewer that there is no convergence to that probability.\n",
        "\n",
        "To prove that the DTMC has a stationary distribution but does not converge to it, we will first use eigenvalue analysis to find the stationary distribution.\n",
        "\n",
        "The stationary distribution is defined as the left eigenvector of the transition matrix $A$ corresponding to the eigenvalue 1. Since $A$ is irreducible, the stationary distribution is unique.\n",
        "\n",
        "\n",
        "\n",
        "where $Z$ is a normalizing constant.\n",
        "\n"
      ],
      "metadata": {
        "id": "502Olw3HMCN6"
      }
    },
    {
      "cell_type": "code",
      "source": [
        "# eigenvalue analysis\n",
        "\n",
        "# compute eigenvalues and eigenvectors\n",
        "eigenvalues, eigenvectors = np.linalg.eig(A.T)\n",
        "\n",
        "# find (whether there are) eigenvalues close to 1\n",
        "idx = np.where(np.isclose(eigenvalues, 1))[0][0]\n",
        "\n",
        "# extract the corresponding eigenvectors\n",
        "stationary = eigenvectors[:, idx].real\n",
        "stationary /= np.sum(stationary) # normalization\n",
        "\n",
        "print('Stationary distribution:', stationary)\n"
      ],
      "metadata": {
        "colab": {
          "base_uri": "https://localhost:8080/"
        },
        "id": "VvPjfX0sbYfO",
        "outputId": "717dcd61-c7c6-4994-f7fc-724d08e595f4"
      },
      "execution_count": null,
      "outputs": [
        {
          "output_type": "stream",
          "name": "stdout",
          "text": [
            "Stationary distribution: [0.20769231 0.34615385 0.23076923 0.15384615 0.06153846]\n"
          ]
        }
      ]
    },
    {
      "cell_type": "markdown",
      "source": [
        "We can also use probability simulation to estimate the stationary distribution. We can start from an arbitrary initial probability vector, and simulate the Markov chain for a large number of steps to estimate the stationary distribution. We can repeat this process multiple times with different initial vectors to check that the estimated stationary distribution is consistent."
      ],
      "metadata": {
        "id": "dnhFjM70rH8W"
      }
    },
    {
      "cell_type": "code",
      "source": [
        "# perform simulation to estimate the stationary distribution\n",
        "n_simulations = 10000\n",
        "n_steps = 1000\n",
        "\n",
        "# initialize the estimated stationary distribution\n",
        "stationary = np.zeros(A.shape[0])\n",
        "\n",
        "for i in range(n_simulations):\n",
        "    # initialize the probability vector at a random state\n",
        "    x = np.zeros(A.shape[0])\n",
        "    x[np.random.randint(0, A.shape[0])] = 1\n",
        "    \n",
        "    # simulate the Markov chain for n_steps\n",
        "    for j in range(n_steps):\n",
        "        x = x @ A\n",
        "    \n",
        "    # update the estimated stationary distribution\n",
        "    stationary += x / n_simulations\n",
        "\n",
        "print('Estimated stationary distribution:', stationary)"
      ],
      "metadata": {
        "colab": {
          "base_uri": "https://localhost:8080/"
        },
        "id": "Ma7dX6qSrRLB",
        "outputId": "4ea53049-de2e-4ba8-8a30-c987bb6da4a7"
      },
      "execution_count": null,
      "outputs": [
        {
          "output_type": "stream",
          "name": "stdout",
          "text": [
            "Estimated stationary distribution: [0.25031077 0.27512308 0.27812308 0.12227692 0.07416615]\n"
          ]
        }
      ]
    },
    {
      "cell_type": "markdown",
      "source": [
        "Which can be observed is quite similar to the one calculated through eigenvalues analysis.\n"
      ],
      "metadata": {
        "id": "J1Mhyfl8rmPE"
      }
    },
    {
      "cell_type": "markdown",
      "source": [
        "To show that the DTMC does not converge to the stationary distribution, we can use a probability simulation. We can simulate the chain with a large number of steps and compute the empirical distribution of the states. \n",
        "\n",
        "If the chain converges to the stationary distribution, the empirical distribution should convege to the stationary distribution. However, in this case, we see that the empirical distribution oscillates around the stationary distribution without converging to it."
      ],
      "metadata": {
        "id": "cehdirrUpg4f"
      }
    },
    {
      "cell_type": "code",
      "source": [
        "# parameter\n",
        "num_steps = 100000\n",
        "\n",
        "# stationary distribution\n",
        "pi = np.array([1, a/(a+b), a**2/((a+b)**2), a**3/((a+b)**3), 0])\n",
        "pi /= np.sum(pi) # normalization\n",
        "\n",
        "# initial state\n",
        "x = np.zeros(5)\n",
        "x[1] = 1\n",
        "\n",
        "# simulate the chain\n",
        "dist = np.zeros(5)\n",
        "for t in range(num_steps):\n",
        "    x = np.dot(x, A)\n",
        "    dist += x\n",
        "\n",
        "# plot the just calculated empirical distribution\n",
        "dist /= num_steps # normalization\n",
        "plt.plot(dist)\n",
        "plt.plot(pi, 'r--')\n",
        "plt.legend(['Empirical distribution', 'Stationary distribution'])\n",
        "plt.show()\n"
      ],
      "metadata": {
        "colab": {
          "base_uri": "https://localhost:8080/",
          "height": 430
        },
        "id": "n8CY81JXZQjg",
        "outputId": "7a13db0b-7118-4893-df88-d1c74d3d9955"
      },
      "execution_count": null,
      "outputs": [
        {
          "output_type": "display_data",
          "data": {
            "text/plain": [
              "<Figure size 640x480 with 1 Axes>"
            ],
            "image/png": "[encoded data removed]"
          },
          "metadata": {}
        }
      ]
    },
    {
      "cell_type": "markdown",
      "source": [
        "We can already see that there is no convergence between the empirical and stationary distribution. "
      ],
      "metadata": {
        "id": "btjSyeMcs2Tv"
      }
    },
    {
      "cell_type": "markdown",
      "source": [
        "Another wat to show that there is no convergence to the stationary distribution, is to demonstrate that the Markov chain is not ergodic. A Markov chain is ergodic if it is irreducible and aperiodic. In other words, the chain must converge to its stationary distribution from any initial state.\n",
        "\n",
        "We can show that the Markov chain is not ergodic by constructing an initial distribution that does not converge to the stationary distribution. For example, we can start with the distribution $[1, 0, 0, 0, 0]$, which corresponds to being in state 1 initially, and simulate the Markov chain for a large number of steps. We can then compute the empirical distribution of the simulated states and compare it to the stationary distribution. If the empirical distribution does not converge to the stationary distribution, then the chain is not ergodic."
      ],
      "metadata": {
        "id": "_NsQNa7lqkpi"
      }
    },
    {
      "cell_type": "code",
      "source": [
        "# simulate the Markov chain starting from state 1\n",
        "x = np.zeros(num_steps, dtype=int)\n",
        "x[0] = 0\n",
        "for t in range(1, num_steps):\n",
        "    x[t] = np.random.choice(5, p=A[x[t-1]])\n",
        "\n",
        "# compute the empirical distribution\n",
        "empirical = np.bincount(x) / num_steps\n",
        "\n",
        "# compare the empirical and stationary distributions\n",
        "print('Stationary distribution:', stationary)\n",
        "print('Empirical distribution:', empirical)"
      ],
      "metadata": {
        "colab": {
          "base_uri": "https://localhost:8080/"
        },
        "id": "WrcGG9Ewtj11",
        "outputId": "ed37f047-06f3-43db-a6df-4be3cab9a38f"
      },
      "execution_count": null,
      "outputs": [
        {
          "output_type": "stream",
          "name": "stdout",
          "text": [
            "Stationary distribution: [0.25031077 0.27512308 0.27812308 0.12227692 0.07416615]\n",
            "Empirical distribution: [0.20977 0.34901 0.22993 0.15099 0.0603 ]\n"
          ]
        }
      ]
    },
    {
      "cell_type": "markdown",
      "source": [
        "We can see that the empirical distribution is close to the stationary distribution, but it is not exactly the same. This indicates that the Markov chain does not converge to its stationary distribution from all initial states, and therefore it is not ergodic."
      ],
      "metadata": {
        "id": "vOypNXpft6Jc"
      }
    },
    {
      "cell_type": "markdown",
      "source": [
        "## Point 3\n",
        "\n",
        "Prove that there can't be trajectory convergence and simulate some trajectories."
      ],
      "metadata": {
        "id": "OPs_M3D01J0k"
      }
    },
    {
      "cell_type": "markdown",
      "source": [
        "To prove that there can't be trajectory convergence, we can show that there are multiple recurrent classes in the DTMC. A recurrent class is a subset of states in which it is possible to go from any state to any other state within the class, but not outside of it. If there are multiple recurrent classes, then trajectories starting from different classes will never converge.\n",
        "\n",
        "To identify the recurrent classes, we can use the fact that a state $i$ is in the same recurrent class as stat $j$ if and only if $i$ communicates with $j$.\n",
        "\n",
        "Using this approach, we can see that there is just one recurrent class in the DTMC: ${1,2,3,4,5}$.\n",
        "\n",
        "To simulate some trajectories, we choose 10 trajectories of length 20 each:"
      ],
      "metadata": {
        "id": "IJJUaU4Y1YCy"
      }
    },
    {
      "cell_type": "code",
      "source": [
        "# parameters\n",
        "num_traj = 10\n",
        "n = 20\n",
        "\n",
        "# simulate trajectories\n",
        "for i in range(num_traj):\n",
        "    # initialize state\n",
        "    curr_state = np.random.choice(np.arange(1, 5))\n",
        "    \n",
        "    # simulate trajectory\n",
        "    for j in range(n):\n",
        "        print(curr_state, end=' ')\n",
        "        curr_state = np.random.choice(np.arange(1, 6), p=A[curr_state-1])\n",
        "    print('\\n')"
      ],
      "metadata": {
        "colab": {
          "base_uri": "https://localhost:8080/"
        },
        "id": "SFQCGCID3dJn",
        "outputId": "60b6aeb9-834c-4f99-ee3c-699e61ea210a"
      },
      "execution_count": null,
      "outputs": [
        {
          "output_type": "stream",
          "name": "stdout",
          "text": [
            "1 2 1 2 1 2 1 2 1 2 3 2 1 2 1 2 1 2 3 2 \n",
            "\n",
            "1 2 1 2 3 4 5 4 5 4 5 4 5 4 3 4 3 4 3 4 \n",
            "\n",
            "3 2 1 2 1 2 3 4 3 2 1 2 1 2 1 2 1 2 3 2 \n",
            "\n",
            "4 3 2 1 2 1 2 1 2 1 2 1 2 3 2 3 4 3 2 1 \n",
            "\n",
            "3 4 5 4 3 4 3 2 3 2 3 2 1 2 3 4 3 4 3 2 \n",
            "\n",
            "2 1 2 1 2 1 2 3 2 3 2 1 2 1 2 3 2 1 2 1 \n",
            "\n",
            "1 2 3 4 5 4 5 4 5 4 3 4 3 2 1 2 1 2 1 2 \n",
            "\n",
            "2 3 2 1 2 3 2 3 4 3 2 1 2 3 4 3 4 3 2 3 \n",
            "\n",
            "3 2 1 2 1 2 3 2 1 2 1 2 3 2 3 2 3 2 1 2 \n",
            "\n",
            "2 1 2 3 2 3 2 1 2 3 4 5 4 3 4 5 4 3 2 1 \n",
            "\n"
          ]
        }
      ]
    },
    {
      "cell_type": "markdown",
      "source": [
        "# Excercise 2\n",
        "\n",
        "Let $Y_{t}$ a (birth death) CTMC with rate matrix $A= \\begin{bmatrix} -b & b & 0 & 0 &0  \\\\  a & -{a-b} & {b} & 0 & 0 \\\\ 0 & a & -a-b & b & 0 \\\\ 0 & 0 & a & -a-b & b \\\\ 0 & 0 & 0 & a & -a \\end{bmatrix}$ with $a=3, b=2$."
      ],
      "metadata": {
        "id": "v5gJi7ZS3xzp"
      }
    },
    {
      "cell_type": "markdown",
      "source": [
        "## Point 1\n",
        "\n",
        "Calculate the stationary distribution of the CTMC."
      ],
      "metadata": {
        "id": "Ax_-aLm4zdGS"
      }
    },
    {
      "cell_type": "markdown",
      "source": [
        "To find the stationary distribution $\\pi$ of the CTMC, we need to solve the equation $\\pi A = 0$ and $\\sum_{i=0}^4 \\pi_i = 1$. In other words, we need to find the left eigenvector of $A$ corresponding to the eigenvalue 0 and normalize it."
      ],
      "metadata": {
        "id": "ArUPj00txLJh"
      }
    },
    {
      "cell_type": "code",
      "source": [
        "# parmeters\n",
        "a = 3\n",
        "b = 2\n",
        "\n",
        "# rate matrix\n",
        "A = np.array([[-b, b, 0, 0, 0],\n",
        "              [a, -a-b, b, 0, 0],\n",
        "              [0, a, -a-b, b, 0],\n",
        "              [0, 0, a, -a-b, b],\n",
        "              [0, 0, 0, a, -a]])\n",
        "\n",
        "# compute eigenvalues and eigenvectors\n",
        "eigenvalues, eigenvectors = np.linalg.eig(A.T)\n",
        "\n",
        "# find the eigenvalues and corresponding eigenvectors close to zero\n",
        "idx = np.where(np.isclose(eigenvalues, 0))[0][0]\n",
        "stationary = eigenvectors[:, idx].real\n",
        "stationary /= np.sum(stationary) # normalization\n",
        "\n",
        "print(\"Stationary distribution:\", stationary)"
      ],
      "metadata": {
        "colab": {
          "base_uri": "https://localhost:8080/"
        },
        "id": "aGMLnNC6xVbp",
        "outputId": "e9d19515-14f4-4b75-c83f-4d7e56846140"
      },
      "execution_count": null,
      "outputs": [
        {
          "output_type": "stream",
          "name": "stdout",
          "text": [
            "Stationary distribution: [0.38388626 0.25592417 0.17061611 0.11374408 0.07582938]\n"
          ]
        }
      ]
    },
    {
      "cell_type": "markdown",
      "source": [
        "## Point 2 \n",
        "Prove with probability simulation and with eigenvalues analysis that the CTMC converges to that stationary distribution."
      ],
      "metadata": {
        "id": "PskwsvWfzfYI"
      }
    },
    {
      "cell_type": "markdown",
      "source": [
        "To prove the convergence, we first use probability simulation, that is simulating the CTMC for a large number of time steps and calculating the empirical distribution of the state occupation probabilities. We can compare this empirical distribution with the stationary distribution obtained in the previous step. If the empirical distribution is close to the stationary distribution, we can conclude that the CTMC has converged.\n",
        "To simulate the CTMC and verify its convergence to the stationary distribution, we can use the Gillespie algorithm.\n"
      ],
      "metadata": {
        "id": "skvHe2SdzsEt"
      }
    },
    {
      "cell_type": "code",
      "source": [
        "# Gillespie algorithm implementation\n",
        "def CTMCsteadystate_probability(Q,p0,t):\n",
        "  l=[]\n",
        "  for i in t:\n",
        "    p=p0@scipy.linalg.expm(Q*i) \n",
        "    l.append(p)\n",
        "  return np.array(l)\n",
        "\n",
        "\n",
        "def CtmcSimulation(Q,x0,max_time):\n",
        "  A=Q.copy()\n",
        "  np.fill_diagonal(A,0)\n",
        "  A=(A.T/(np.sum(A,axis=1))).T\n",
        "  times=[]\n",
        "  states=[]\n",
        "  tot_time=0\n",
        "  times.append(tot_time)\n",
        "  x=x0\n",
        "  states.append(x)\n",
        "  while tot_time<max_time:\n",
        "    t=scipy.stats.expon(scale=-1/Q[x0,x0]).rvs(size=1)[0]\n",
        "    tot_time=tot_time+t\n",
        "    times.append(tot_time)\n",
        "    states.append(x)\n",
        "    x=np.random.choice(len(A),p=A[x])\n",
        "    times.append(tot_time)\n",
        "    states.append(x)\n",
        "  return times,states\n",
        "\n",
        "# variables\n",
        "p0=np.array([0.2,0.2,0.2,0.2,0.2])\n",
        "t=np.linspace(0,50,100)\n",
        "\n",
        "# simulate CMTC using Gillespie algorithm\n",
        "p=CTMCsteadystate_probability(A,p0,t)\n",
        "\n",
        "# plotting\n",
        "plt.plot(t,p)\n",
        "\n",
        "## print the estimated and true stationary distributions\n",
        "estimated=p[len(p)-1,:]\n",
        "print(\"Estimated stationary distribution:\", estimated)\n",
        "print(\"True stationary distribution:\", stationary)"
      ],
      "metadata": {
        "colab": {
          "base_uri": "https://localhost:8080/",
          "height": 464
        },
        "id": "Iz2h8uZg9SAZ",
        "outputId": "ff801f6c-9a40-4a28-f815-df9d7581188b"
      },
      "execution_count": null,
      "outputs": [
        {
          "output_type": "stream",
          "name": "stdout",
          "text": [
            "Estimated stationary distribution: [0.38388626 0.25592417 0.17061611 0.11374408 0.07582938]\n",
            "True stationary distribution: [0.38388626 0.25592417 0.17061611 0.11374408 0.07582938]\n"
          ]
        },
        {
          "output_type": "display_data",
          "data": {
            "text/plain": [
              "<Figure size 640x480 with 1 Axes>"
            ],
            "image/png": "[encoded data removed]"
          },
          "metadata": {}
        }
      ]
    },
    {
      "cell_type": "markdown",
      "source": [
        "We can see that the empirical distribution is very close, actually equal, to the stationary distribution. This provides evidence that the CTMC has converged to the stationary distribution."
      ],
      "metadata": {
        "id": "8Lnya9w82Y82"
      }
    },
    {
      "cell_type": "markdown",
      "source": [
        "We now prove the convergence again, using the eigenvalues analysis instead. To achieve so, we can calculate the eigenvalues and eigenvectors of the rate matrix, and check that the largest eigenvalue is 0, and the corresponding eigenvector is the stationary distribution."
      ],
      "metadata": {
        "id": "LaEkyl5V2fCc"
      }
    },
    {
      "cell_type": "code",
      "source": [
        "# calculate the eigenvalues and left eigenvectors\n",
        "eigenvalues, eigenvectors = np.linalg.eig(A.T)\n",
        "\n",
        "# find eigenvalue close to 0\n",
        "idx = np.where(np.isclose(eigenvalues, 0))[0][0]\n",
        "\n",
        "# extract the corresponding left eigenvector\n",
        "stationary = eigenvectors[:, idx].real\n",
        "stationary /= np.sum(stationary)\n",
        "\n",
        "print('Stationary distribution:', stationary)\n"
      ],
      "metadata": {
        "colab": {
          "base_uri": "https://localhost:8080/"
        },
        "id": "iuZsHVbi26OO",
        "outputId": "746cc1a5-3493-4385-907f-d469c9f034e0"
      },
      "execution_count": null,
      "outputs": [
        {
          "output_type": "stream",
          "name": "stdout",
          "text": [
            "Stationary distribution: [0.38388626 0.25592417 0.17061611 0.11374408 0.07582938]\n"
          ]
        }
      ]
    },
    {
      "cell_type": "markdown",
      "source": [
        "Therefore, we have shown that the CTMC converges to the stationary distribution calculated using both probability simulation and eigenvalue analysis."
      ],
      "metadata": {
        "id": "08ca3EP9AQKI"
      }
    },
    {
      "cell_type": "markdown",
      "source": [
        "## Point 3\n",
        "Simulate some trajectories."
      ],
      "metadata": {
        "id": "9J67hnxpA0Y8"
      }
    },
    {
      "cell_type": "code",
      "source": [
        "# parameters\n",
        "N = 10\n",
        "max_time = 100\n",
        "x0 = 0\n",
        "\n",
        "times = [[]]*N\n",
        "states = [[]]*N\n",
        "\n",
        "for i in range(N):\n",
        "  t,s=CtmcSimulation(A,x0,max_time)\n",
        "  plt.plot(t,s)\n",
        "  times[i].append(t)\n",
        "  states[i].append(s)\n",
        "  print(s)\n",
        "\n",
        "plt.show"
      ],
      "metadata": {
        "colab": {
          "base_uri": "https://localhost:8080/",
          "height": 637
        },
        "id": "wtTr9fOjA49_",
        "outputId": "3d28e473-9796-4d13-9e26-efbdcf31e315"
      },
      "execution_count": null,
      "outputs": [
        {
          "output_type": "stream",
          "name": "stdout",
          "text": [
            "[0, 0, 1, 1, 2, 2, 1, 1, 0, 0, 1, 1, 0, 0, 1, 1, 0, 0, 1, 1, 0, 0, 1, 1, 0, 0, 1, 1, 0, 0, 1, 1, 0, 0, 1, 1, 0, 0, 1, 1, 0, 0, 1, 1, 0, 0, 1, 1, 2, 2, 3, 3, 2, 2, 3, 3, 2, 2, 1, 1, 0, 0, 1, 1, 0, 0, 1, 1, 0, 0, 1, 1, 2, 2, 1, 1, 0, 0, 1, 1, 0, 0, 1, 1, 2, 2, 3, 3, 2, 2, 1, 1, 0, 0, 1, 1, 2, 2, 3, 3, 4, 4, 3, 3, 2, 2, 3, 3, 2, 2, 1, 1, 0, 0, 1, 1, 0, 0, 1, 1, 2, 2, 3, 3, 2, 2, 1, 1, 0, 0, 1, 1, 0, 0, 1, 1, 0, 0, 1, 1, 2, 2, 1, 1, 0, 0, 1, 1, 0, 0, 1, 1, 2, 2, 1, 1, 2, 2, 3, 3, 2, 2, 3, 3, 2, 2, 1, 1, 2, 2, 1, 1, 2, 2, 3, 3, 4, 4, 3, 3, 4, 4, 3, 3, 2, 2, 1, 1, 0, 0, 1, 1, 0, 0, 1, 1, 2, 2, 3, 3, 2, 2, 1, 1, 2, 2, 1, 1, 2, 2, 1, 1, 2, 2, 1, 1, 2, 2, 3, 3, 4, 4, 3, 3, 4, 4, 3, 3, 2, 2, 1, 1, 0, 0, 1, 1, 0, 0, 1, 1, 0, 0, 1, 1, 0, 0, 1, 1, 2, 2, 3, 3, 2, 2, 1, 1, 0, 0, 1, 1, 2, 2, 1, 1, 0, 0, 1, 1, 0, 0, 1, 1, 0, 0, 1, 1, 2, 2, 1, 1, 0, 0, 1, 1, 0, 0, 1, 1, 2, 2, 3, 3, 2, 2, 1, 1, 0, 0, 1, 1, 0, 0, 1, 1, 0, 0, 1, 1, 0, 0, 1, 1, 2, 2, 3, 3, 2, 2, 1, 1, 2, 2, 1, 1, 2, 2, 3, 3, 4, 4, 3, 3, 2, 2, 1, 1, 2, 2, 1, 1, 0, 0, 1, 1, 0, 0, 1, 1, 0, 0, 1, 1, 0, 0, 1, 1, 2, 2, 1, 1, 2, 2, 3, 3, 2, 2, 1, 1, 2, 2, 3, 3, 4, 4, 3, 3, 4, 4, 3, 3, 2, 2, 1, 1, 0, 0, 1, 1, 2, 2, 3, 3, 4, 4, 3, 3, 2, 2, 1, 1, 0, 0, 1, 1, 2, 2, 3, 3, 2, 2, 1, 1, 2, 2, 1, 1, 0, 0, 1, 1, 2, 2, 1, 1, 0, 0, 1, 1, 0, 0, 1, 1, 0, 0, 1, 1, 0, 0, 1, 1, 2, 2, 1, 1, 2]\n",
            "[0, 0, 1, 1, 0, 0, 1, 1, 0, 0, 1, 1, 0, 0, 1, 1, 2, 2, 3, 3, 4, 4, 3, 3, 4, 4, 3, 3, 4, 4, 3, 3, 4, 4, 3, 3, 2, 2, 3, 3, 2, 2, 3, 3, 4, 4, 3, 3, 2, 2, 1, 1, 2, 2, 1, 1, 0, 0, 1, 1, 2, 2, 1, 1, 0, 0, 1, 1, 2, 2, 3, 3, 2, 2, 1, 1, 0, 0, 1, 1, 0, 0, 1, 1, 0, 0, 1, 1, 2, 2, 3, 3, 4, 4, 3, 3, 2, 2, 3, 3, 2, 2, 1, 1, 0, 0, 1, 1, 2, 2, 3, 3, 2, 2, 3, 3, 4, 4, 3, 3, 2, 2, 3, 3, 2, 2, 3, 3, 2, 2, 1, 1, 0, 0, 1, 1, 0, 0, 1, 1, 0, 0, 1, 1, 0, 0, 1, 1, 0, 0, 1, 1, 0, 0, 1, 1, 0, 0, 1, 1, 0, 0, 1, 1, 2, 2, 1, 1, 2, 2, 3, 3, 2, 2, 1, 1, 0, 0, 1, 1, 2, 2, 1, 1, 2, 2, 3, 3, 4, 4, 3, 3, 2, 2, 1, 1, 0, 0, 1, 1, 0, 0, 1, 1, 0, 0, 1, 1, 0, 0, 1, 1, 2, 2, 3, 3, 2, 2, 1, 1, 0, 0, 1, 1, 2, 2, 3, 3, 2, 2, 3, 3, 4, 4, 3, 3, 4, 4, 3, 3, 4, 4, 3, 3, 4, 4, 3, 3, 4, 4, 3, 3, 2, 2, 1, 1, 0, 0, 1, 1, 2, 2, 1, 1, 0, 0, 1, 1, 0, 0, 1, 1, 2, 2, 3, 3, 2, 2, 1, 1, 0, 0, 1, 1, 0, 0, 1, 1, 2, 2, 1, 1, 2, 2, 1, 1, 0, 0, 1, 1, 2, 2, 1, 1, 0, 0, 1, 1, 0, 0, 1, 1, 0, 0, 1, 1, 2, 2, 1, 1, 2, 2, 3, 3, 4, 4, 3, 3, 4, 4, 3, 3, 2, 2, 1, 1, 2, 2, 1, 1, 0, 0, 1, 1, 2, 2, 1, 1, 0, 0, 1, 1, 0, 0, 1, 1, 0, 0, 1, 1, 2, 2, 3, 3, 4, 4, 3, 3, 4, 4, 3, 3, 2, 2, 3, 3, 2, 2, 3, 3, 4, 4, 3, 3, 4, 4, 3, 3, 4, 4, 3, 3, 4, 4, 3, 3, 2, 2, 1, 1, 2, 2, 3, 3, 2, 2, 3, 3, 2, 2, 1, 1, 0, 0, 1, 1, 0, 0, 1, 1, 2, 2, 1, 1, 0, 0, 1, 1, 2, 2, 1, 1, 2, 2, 1, 1, 0, 0, 1, 1, 0, 0, 1, 1, 2, 2, 3, 3, 2, 2, 1, 1, 0, 0, 1, 1, 0, 0, 1, 1, 2]\n",
            "[0, 0, 1, 1, 0, 0, 1, 1, 0, 0, 1, 1, 2, 2, 1, 1, 0, 0, 1, 1, 2, 2, 1, 1, 2, 2, 3, 3, 2, 2, 1, 1, 0, 0, 1, 1, 0, 0, 1, 1, 0, 0, 1, 1, 2, 2, 1, 1, 0, 0, 1, 1, 0, 0, 1, 1, 0, 0, 1, 1, 2, 2, 3, 3, 2, 2, 3, 3, 2, 2, 3, 3, 4, 4, 3, 3, 2, 2, 1, 1, 0, 0, 1, 1, 2, 2, 1, 1, 0, 0, 1, 1, 0, 0, 1, 1, 0, 0, 1, 1, 0, 0, 1, 1, 0, 0, 1, 1, 2, 2, 1, 1, 0, 0, 1, 1, 2, 2, 1, 1, 0, 0, 1, 1, 0, 0, 1, 1, 2, 2, 1, 1, 0, 0, 1, 1, 0, 0, 1, 1, 2, 2, 3, 3, 2, 2, 1, 1, 0, 0, 1, 1, 0, 0, 1, 1, 2, 2, 1, 1, 0, 0, 1, 1, 2, 2, 3, 3, 4, 4, 3, 3, 2, 2, 1, 1, 0, 0, 1, 1, 0, 0, 1, 1, 2, 2, 1, 1, 2, 2, 1, 1, 0, 0, 1, 1, 0, 0, 1, 1, 2, 2, 3, 3, 4, 4, 3, 3, 4, 4, 3, 3, 2, 2, 1, 1, 2, 2, 3, 3, 2, 2, 1, 1, 0, 0, 1, 1, 0, 0, 1, 1, 2, 2, 1, 1, 0, 0, 1, 1, 0, 0, 1, 1, 2, 2, 1, 1, 0, 0, 1, 1, 0, 0, 1, 1, 0, 0, 1, 1, 0, 0, 1, 1, 2, 2, 3, 3, 2, 2, 3, 3, 2, 2, 3, 3, 2, 2, 3, 3, 2, 2, 3, 3, 2, 2, 1, 1, 0, 0, 1, 1, 2, 2, 1, 1, 0, 0, 1, 1, 2, 2, 1, 1, 2, 2, 1, 1, 0, 0, 1, 1, 0, 0, 1, 1, 0, 0, 1, 1, 0, 0, 1, 1, 2, 2, 1, 1, 0, 0, 1, 1, 0, 0, 1, 1, 0, 0, 1, 1, 0, 0, 1, 1, 2, 2, 3, 3, 4, 4, 3, 3, 2, 2, 1, 1, 2, 2, 1, 1, 0, 0, 1, 1, 0, 0, 1, 1, 0, 0, 1, 1, 0, 0, 1, 1, 0, 0, 1, 1, 0, 0, 1, 1, 2, 2, 1, 1, 0, 0, 1, 1, 2, 2, 1, 1, 2, 2, 1, 1, 0, 0, 1, 1, 2]\n",
            "[0, 0, 1, 1, 2, 2, 1, 1, 0, 0, 1, 1, 0, 0, 1, 1, 0, 0, 1, 1, 0, 0, 1, 1, 0, 0, 1, 1, 2, 2, 3, 3, 4, 4, 3, 3, 2, 2, 1, 1, 0, 0, 1, 1, 0, 0, 1, 1, 0, 0, 1, 1, 2, 2, 1, 1, 0, 0, 1, 1, 2, 2, 3, 3, 4, 4, 3, 3, 2, 2, 1, 1, 2, 2, 3, 3, 4, 4, 3, 3, 4, 4, 3, 3, 2, 2, 1, 1, 0, 0, 1, 1, 2, 2, 1, 1, 0, 0, 1, 1, 0, 0, 1, 1, 2, 2, 1, 1, 0, 0, 1, 1, 0, 0, 1, 1, 0, 0, 1, 1, 0, 0, 1, 1, 0, 0, 1, 1, 0, 0, 1, 1, 2, 2, 3, 3, 2, 2, 1, 1, 0, 0, 1, 1, 0, 0, 1, 1, 0, 0, 1, 1, 2, 2, 1, 1, 2, 2, 3, 3, 2, 2, 1, 1, 0, 0, 1, 1, 0, 0, 1, 1, 0, 0, 1, 1, 2, 2, 1, 1, 2, 2, 1, 1, 0, 0, 1, 1, 0, 0, 1, 1, 2, 2, 1, 1, 0, 0, 1, 1, 2, 2, 3, 3, 2, 2, 1, 1, 0, 0, 1, 1, 0, 0, 1, 1, 2, 2, 1, 1, 2, 2, 3, 3, 4, 4, 3, 3, 2, 2, 1, 1, 0, 0, 1, 1, 2, 2, 1, 1, 0, 0, 1, 1, 2, 2, 3, 3, 2, 2, 1, 1, 0, 0, 1, 1, 0, 0, 1, 1, 2, 2, 3, 3, 4, 4, 3, 3, 4, 4, 3, 3, 4, 4, 3, 3, 4, 4, 3, 3, 4, 4, 3, 3, 2, 2, 3, 3, 4, 4, 3, 3, 2, 2, 1, 1, 0, 0, 1, 1, 0, 0, 1, 1, 0, 0, 1, 1, 0, 0, 1, 1, 0, 0, 1, 1, 0, 0, 1, 1, 0, 0, 1, 1, 0, 0, 1, 1, 0, 0, 1, 1, 2, 2, 1, 1, 0, 0, 1, 1, 2, 2, 3, 3, 2, 2, 1, 1, 0, 0, 1, 1, 0, 0, 1, 1, 0, 0, 1, 1, 2, 2, 1, 1, 2, 2, 1, 1, 2, 2, 1, 1, 0, 0, 1, 1, 0, 0, 1, 1, 0, 0, 1, 1, 2, 2, 1, 1, 2, 2, 1]\n",
            "[0, 0, 1, 1, 0, 0, 1, 1, 0, 0, 1, 1, 2, 2, 3, 3, 4, 4, 3, 3, 4, 4, 3, 3, 2, 2, 1, 1, 2, 2, 3, 3, 2, 2, 1, 1, 2, 2, 1, 1, 2, 2, 1, 1, 2, 2, 3, 3, 2, 2, 1, 1, 0, 0, 1, 1, 2, 2, 1, 1, 0, 0, 1, 1, 0, 0, 1, 1, 0, 0, 1, 1, 0, 0, 1, 1, 0, 0, 1, 1, 0, 0, 1, 1, 0, 0, 1, 1, 0, 0, 1, 1, 0, 0, 1, 1, 2, 2, 1, 1, 2, 2, 3, 3, 4, 4, 3, 3, 2, 2, 1, 1, 2, 2, 3, 3, 4, 4, 3, 3, 4, 4, 3, 3, 4, 4, 3, 3, 2, 2, 1, 1, 2, 2, 3, 3, 2, 2, 3, 3, 4, 4, 3, 3, 4, 4, 3, 3, 4, 4, 3, 3, 4, 4, 3, 3, 2, 2, 1, 1, 2, 2, 3, 3, 2, 2, 1, 1, 0, 0, 1, 1, 2, 2, 3, 3, 4, 4, 3, 3, 2, 2, 3, 3, 2, 2, 3, 3, 4, 4, 3, 3, 4, 4, 3, 3, 4, 4, 3, 3, 2, 2, 1, 1, 0, 0, 1, 1, 0, 0, 1, 1, 0, 0, 1, 1, 0, 0, 1, 1, 0, 0, 1, 1, 2, 2, 1, 1, 2, 2, 3, 3, 2, 2, 1, 1, 0, 0, 1, 1, 0, 0, 1, 1, 0, 0, 1, 1, 0, 0, 1, 1, 0, 0, 1, 1, 0, 0, 1, 1, 0, 0, 1, 1, 0, 0, 1, 1, 0, 0, 1, 1, 0, 0, 1, 1, 2, 2, 1, 1, 0, 0, 1, 1, 2, 2, 1, 1, 2, 2, 1, 1, 0, 0, 1, 1, 0, 0, 1, 1, 2, 2, 1, 1, 2, 2, 3, 3, 2, 2, 1, 1, 0, 0, 1, 1, 2, 2, 1, 1, 0, 0, 1, 1, 2, 2, 1, 1, 0, 0, 1, 1, 0, 0, 1, 1, 2, 2, 3, 3, 2, 2, 1, 1, 0, 0, 1, 1, 0, 0, 1, 1, 2, 2, 1, 1, 0, 0, 1, 1, 0, 0, 1, 1, 2, 2, 1, 1, 0, 0, 1, 1, 0, 0, 1, 1, 0, 0, 1, 1, 0, 0, 1, 1, 0, 0, 1, 1, 2, 2, 1, 1, 0, 0, 1, 1, 0, 0, 1, 1, 2, 2, 1, 1, 0, 0, 1, 1, 0, 0, 1, 1, 2, 2, 3, 3, 4, 4, 3, 3, 4, 4, 3, 3, 2, 2, 1, 1, 2, 2, 1, 1, 0, 0, 1, 1, 0, 0, 1, 1, 2, 2, 3, 3, 4, 4, 3, 3, 4, 4, 3, 3, 2, 2, 1, 1, 0, 0, 1, 1, 2]\n",
            "[0, 0, 1, 1, 0, 0, 1, 1, 0, 0, 1, 1, 2, 2, 1, 1, 0, 0, 1, 1, 0, 0, 1, 1, 2, 2, 3, 3, 2, 2, 3, 3, 2, 2, 1, 1, 0, 0, 1, 1, 2, 2, 3, 3, 4, 4, 3, 3, 4, 4, 3, 3, 2, 2, 1, 1, 0, 0, 1, 1, 0, 0, 1, 1, 0, 0, 1, 1, 0, 0, 1, 1, 0, 0, 1, 1, 0, 0, 1, 1, 2, 2, 3, 3, 2, 2, 3, 3, 4, 4, 3, 3, 4, 4, 3, 3, 4, 4, 3, 3, 2, 2, 3, 3, 2, 2, 1, 1, 2, 2, 1, 1, 0, 0, 1, 1, 0, 0, 1, 1, 2, 2, 3, 3, 2, 2, 1, 1, 2, 2, 1, 1, 0, 0, 1, 1, 2, 2, 1, 1, 0, 0, 1, 1, 0, 0, 1, 1, 0, 0, 1, 1, 2, 2, 3, 3, 2, 2, 3, 3, 4, 4, 3, 3, 2, 2, 3, 3, 4, 4, 3, 3, 4, 4, 3, 3, 4, 4, 3, 3, 2, 2, 1, 1, 0, 0, 1, 1, 2, 2, 1, 1, 0, 0, 1, 1, 2, 2, 1, 1, 0, 0, 1, 1, 0, 0, 1, 1, 0, 0, 1, 1, 0, 0, 1, 1, 2, 2, 1, 1, 2, 2, 1, 1, 2, 2, 3, 3, 2, 2, 1, 1, 0, 0, 1, 1, 2, 2, 3, 3, 2, 2, 3, 3, 2, 2, 1, 1, 0, 0, 1, 1, 0, 0, 1, 1, 0, 0, 1, 1, 0, 0, 1, 1, 2, 2, 3, 3, 2, 2, 1, 1, 0, 0, 1, 1, 2, 2, 3, 3, 2, 2, 1, 1, 0, 0, 1, 1, 0, 0, 1, 1, 0, 0, 1, 1, 2, 2, 1, 1, 0, 0, 1, 1, 2, 2, 3, 3, 2, 2, 1, 1, 0, 0, 1, 1, 2, 2, 3, 3, 2, 2, 3, 3, 2, 2, 1, 1, 0, 0, 1, 1, 0, 0, 1, 1, 0, 0, 1, 1, 2, 2, 3, 3, 2, 2, 1, 1, 2, 2, 1, 1, 0, 0, 1, 1, 0, 0, 1, 1, 2, 2, 1, 1, 0, 0, 1, 1, 0, 0, 1, 1, 2, 2, 3, 3, 4, 4, 3, 3, 2, 2, 3, 3, 2, 2, 3, 3, 2, 2, 1, 1, 2, 2, 1, 1, 2, 2, 3, 3, 2, 2, 3, 3, 4, 4, 3, 3, 4, 4, 3, 3, 4, 4, 3, 3, 2, 2, 1, 1, 0, 0, 1, 1, 2, 2, 3, 3, 2]\n",
            "[0, 0, 1, 1, 2, 2, 1, 1, 2, 2, 1, 1, 0, 0, 1, 1, 0, 0, 1, 1, 0, 0, 1, 1, 2, 2, 1, 1, 0, 0, 1, 1, 0, 0, 1, 1, 0, 0, 1, 1, 0, 0, 1, 1, 0, 0, 1, 1, 2, 2, 1, 1, 0, 0, 1, 1, 2, 2, 3, 3, 2, 2, 3, 3, 2, 2, 1, 1, 0, 0, 1, 1, 0, 0, 1, 1, 2, 2, 3, 3, 2, 2, 1, 1, 2, 2, 1, 1, 2, 2, 3, 3, 4, 4, 3, 3, 4, 4, 3, 3, 2, 2, 3, 3, 4, 4, 3, 3, 4, 4, 3, 3, 4, 4, 3, 3, 2, 2, 1, 1, 0, 0, 1, 1, 2, 2, 3, 3, 4, 4, 3, 3, 4, 4, 3, 3, 2, 2, 3, 3, 2, 2, 1, 1, 2, 2, 1, 1, 0, 0, 1, 1, 0, 0, 1, 1, 0, 0, 1, 1, 0, 0, 1, 1, 0, 0, 1, 1, 2, 2, 3, 3, 2, 2, 1, 1, 2, 2, 3, 3, 2, 2, 1, 1, 0, 0, 1, 1, 0, 0, 1, 1, 0, 0, 1, 1, 2, 2, 1, 1, 0, 0, 1, 1, 0, 0, 1, 1, 2, 2, 3, 3, 2, 2, 3, 3, 2, 2, 1, 1, 0, 0, 1, 1, 0, 0, 1, 1, 0, 0, 1, 1, 0, 0, 1, 1, 2, 2, 1, 1, 2, 2, 1, 1, 0, 0, 1, 1, 0, 0, 1, 1, 0, 0, 1, 1, 0, 0, 1, 1, 2, 2, 3, 3, 2, 2, 1, 1, 0, 0, 1, 1, 0, 0, 1, 1, 0, 0, 1, 1, 0, 0, 1, 1, 0, 0, 1, 1, 0, 0, 1, 1, 0, 0, 1, 1, 2, 2, 3, 3, 2, 2, 1, 1, 2, 2, 3, 3, 4, 4, 3, 3, 2, 2, 1, 1, 0, 0, 1, 1, 0, 0, 1, 1, 2, 2, 1, 1, 0, 0, 1, 1, 2, 2, 3, 3, 4, 4, 3, 3, 2, 2, 1, 1, 0, 0, 1, 1, 2, 2, 3, 3, 4, 4, 3, 3, 2, 2, 1, 1, 0, 0, 1, 1, 2, 2, 3, 3, 4, 4, 3, 3, 2, 2, 1, 1, 0, 0, 1, 1, 0, 0, 1, 1, 0, 0, 1, 1, 2, 2, 1, 1, 2, 2, 3, 3, 2, 2, 3, 3, 2, 2, 3, 3, 4, 4, 3, 3, 4, 4, 3, 3, 2, 2, 3, 3, 4, 4, 3, 3, 2, 2, 3, 3, 4, 4, 3, 3, 2, 2, 1, 1, 2, 2, 3, 3, 2, 2, 1, 1, 2, 2, 1, 1, 0, 0, 1, 1, 0, 0, 1, 1, 0, 0, 1, 1, 2]\n",
            "[0, 0, 1, 1, 2, 2, 1, 1, 0, 0, 1, 1, 0, 0, 1, 1, 2, 2, 3, 3, 2, 2, 1, 1, 0, 0, 1, 1, 0, 0, 1, 1, 2, 2, 3, 3, 2, 2, 1, 1, 0, 0, 1, 1, 0, 0, 1, 1, 0, 0, 1, 1, 0, 0, 1, 1, 2, 2, 3, 3, 2, 2, 1, 1, 0, 0, 1, 1, 2, 2, 3, 3, 2, 2, 3, 3, 2, 2, 1, 1, 0, 0, 1, 1, 2, 2, 1, 1, 0, 0, 1, 1, 0, 0, 1, 1, 2, 2, 1, 1, 2, 2, 3, 3, 2, 2, 3, 3, 2, 2, 1, 1, 0, 0, 1, 1, 0, 0, 1, 1, 0, 0, 1, 1, 0, 0, 1, 1, 0, 0, 1, 1, 0, 0, 1, 1, 0, 0, 1, 1, 0, 0, 1, 1, 2, 2, 3, 3, 4, 4, 3, 3, 2, 2, 3, 3, 4, 4, 3, 3, 2, 2, 3, 3, 4, 4, 3, 3, 2, 2, 1, 1, 2, 2, 1, 1, 0, 0, 1, 1, 0, 0, 1, 1, 2, 2, 3, 3, 2, 2, 3, 3, 2, 2, 1, 1, 0, 0, 1, 1, 2, 2, 1, 1, 2, 2, 1, 1, 2, 2, 1, 1, 0, 0, 1, 1, 2, 2, 1, 1, 0, 0, 1, 1, 2, 2, 3, 3, 4, 4, 3, 3, 2, 2, 1, 1, 0, 0, 1, 1, 2, 2, 1, 1, 0, 0, 1, 1, 0, 0, 1, 1, 0, 0, 1, 1, 0, 0, 1, 1, 2, 2, 1, 1, 0, 0, 1, 1, 0, 0, 1, 1, 0, 0, 1, 1, 2, 2, 1, 1, 0, 0, 1, 1, 0, 0, 1, 1, 0, 0, 1, 1, 2, 2, 1, 1, 2, 2, 3, 3, 2, 2, 1, 1, 0, 0, 1, 1, 0, 0, 1, 1, 0, 0, 1, 1, 0, 0, 1, 1, 0, 0, 1, 1, 2, 2, 3, 3, 2, 2, 1, 1, 2, 2, 1, 1, 2, 2, 1, 1, 2, 2, 1, 1, 2, 2, 3, 3, 2, 2, 1, 1, 0, 0, 1, 1, 0, 0, 1, 1, 0, 0, 1, 1, 2, 2, 1, 1, 0, 0, 1, 1, 0, 0, 1]\n",
            "[0, 0, 1, 1, 0, 0, 1, 1, 0, 0, 1, 1, 0, 0, 1, 1, 0, 0, 1, 1, 0, 0, 1, 1, 2, 2, 3, 3, 4, 4, 3, 3, 4, 4, 3, 3, 2, 2, 3, 3, 2, 2, 1, 1, 2, 2, 3, 3, 4, 4, 3, 3, 2, 2, 1, 1, 0, 0, 1, 1, 0, 0, 1, 1, 0, 0, 1, 1, 2, 2, 1, 1, 0, 0, 1, 1, 2, 2, 3, 3, 2, 2, 3, 3, 2, 2, 3, 3, 4, 4, 3, 3, 2, 2, 3, 3, 4, 4, 3, 3, 4, 4, 3, 3, 2, 2, 1, 1, 2, 2, 1, 1, 0, 0, 1, 1, 0, 0, 1, 1, 2, 2, 3, 3, 2, 2, 1, 1, 2, 2, 1, 1, 0, 0, 1, 1, 0, 0, 1, 1, 2, 2, 1, 1, 0, 0, 1, 1, 2, 2, 3, 3, 2, 2, 3, 3, 2, 2, 1, 1, 0, 0, 1, 1, 2, 2, 1, 1, 2, 2, 3, 3, 2, 2, 3, 3, 2, 2, 1, 1, 0, 0, 1, 1, 0, 0, 1, 1, 0, 0, 1, 1, 2, 2, 3, 3, 2, 2, 3, 3, 4, 4, 3, 3, 2, 2, 3, 3, 2, 2, 3, 3, 4, 4, 3, 3, 2, 2, 3, 3, 2, 2, 1, 1, 2, 2, 3, 3, 2, 2, 3, 3, 2, 2, 1, 1, 2, 2, 1, 1, 2, 2, 1, 1, 2, 2, 3, 3, 4, 4, 3, 3, 4, 4, 3, 3, 4, 4, 3, 3, 2, 2, 3, 3, 4, 4, 3, 3, 2, 2, 3, 3, 2, 2, 1, 1, 2, 2, 3, 3, 4, 4, 3, 3, 4, 4, 3, 3, 4, 4, 3, 3, 2, 2, 1, 1, 2, 2, 3, 3, 2, 2, 3, 3, 2, 2, 1, 1, 0, 0, 1, 1, 0, 0, 1, 1, 0, 0, 1, 1, 0, 0, 1, 1, 0, 0, 1, 1, 2, 2, 3, 3, 2, 2, 1, 1, 0, 0, 1, 1, 0, 0, 1, 1, 0, 0, 1, 1, 0, 0, 1, 1, 2, 2, 1, 1, 2, 2, 3, 3, 4, 4, 3, 3, 2, 2, 3, 3, 4, 4, 3, 3, 2, 2, 3, 3, 2, 2, 1, 1, 2, 2, 1, 1, 2, 2, 3, 3, 4, 4, 3, 3, 2, 2, 3, 3, 2, 2, 1, 1, 0, 0, 1]\n",
            "[0, 0, 1, 1, 0, 0, 1, 1, 2, 2, 3, 3, 2, 2, 1, 1, 0, 0, 1, 1, 2, 2, 1, 1, 0, 0, 1, 1, 2, 2, 1, 1, 0, 0, 1, 1, 0, 0, 1, 1, 2, 2, 1, 1, 2, 2, 1, 1, 2, 2, 1, 1, 0, 0, 1, 1, 2, 2, 3, 3, 2, 2, 3, 3, 2, 2, 1, 1, 2, 2, 3, 3, 4, 4, 3, 3, 2, 2, 1, 1, 2, 2, 1, 1, 2, 2, 3, 3, 4, 4, 3, 3, 2, 2, 1, 1, 2, 2, 1, 1, 2, 2, 3, 3, 2, 2, 3, 3, 4, 4, 3, 3, 2, 2, 3, 3, 2, 2, 1, 1, 2, 2, 1, 1, 2, 2, 1, 1, 2, 2, 1, 1, 0, 0, 1, 1, 0, 0, 1, 1, 2, 2, 3, 3, 2, 2, 1, 1, 0, 0, 1, 1, 0, 0, 1, 1, 0, 0, 1, 1, 0, 0, 1, 1, 0, 0, 1, 1, 0, 0, 1, 1, 0, 0, 1, 1, 2, 2, 1, 1, 2, 2, 1, 1, 2, 2, 1, 1, 0, 0, 1, 1, 0, 0, 1, 1, 0, 0, 1, 1, 0, 0, 1, 1, 2, 2, 1, 1, 2, 2, 1, 1, 0, 0, 1, 1, 2, 2, 3, 3, 4, 4, 3, 3, 2, 2, 3, 3, 2, 2, 3, 3, 2, 2, 1, 1, 0, 0, 1, 1, 2, 2, 1, 1, 0, 0, 1, 1, 2, 2, 1, 1, 0, 0, 1, 1, 2, 2, 1, 1, 2, 2, 3, 3, 2, 2, 1, 1, 0, 0, 1, 1, 0, 0, 1, 1, 0, 0, 1, 1, 0, 0, 1, 1, 2, 2, 3, 3, 4, 4, 3, 3, 2, 2, 1, 1, 0, 0, 1, 1, 0, 0, 1, 1, 2, 2, 1, 1, 2, 2, 1, 1, 2, 2, 1, 1, 0, 0, 1, 1, 0, 0, 1, 1, 2, 2, 1, 1, 2, 2, 3, 3, 2, 2, 3, 3, 2, 2, 1, 1, 0, 0, 1, 1, 0, 0, 1, 1, 2, 2, 1, 1, 2, 2, 1, 1, 0, 0, 1, 1, 0, 0, 1, 1, 2, 2, 3, 3, 2, 2, 1, 1, 0, 0, 1, 1, 2, 2, 1, 1, 0, 0, 1, 1, 0, 0, 1, 1, 2, 2, 1, 1, 0, 0, 1, 1, 0, 0, 1, 1, 0]\n"
          ]
        },
        {
          "output_type": "execute_result",
          "data": {
            "text/plain": [
              "<function matplotlib.pyplot.show(close=None, block=None)>"
            ]
          },
          "metadata": {},
          "execution_count": 39
        },
        {
          "output_type": "display_data",
          "data": {
            "text/plain": [
              "<Figure size 640x480 with 1 Axes>"
            ],
            "image/png": "[encoded data removed]"
          },
          "metadata": {}
        }
      ]
    },
    {
      "cell_type": "markdown",
      "source": [
        "# Exercise 3\n",
        "What is the relation between $Y_{t}$ and $X_{t}$?"
      ],
      "metadata": {
        "id": "XkO1qFLxHXSk"
      }
    },
    {
      "cell_type": "markdown",
      "source": [
        "We have two processes: a discrete-time Markov chain (DTMC) $X_t$ and a continuous-time Markov chain (CTMC) $Y_t$. The state space of both chains is the same: {1, 2, 3, 4, 5}.\n",
        "\n",
        "The DTMC $X_t$ has a stochastic matrix $A$, which describes the probabilities of transitioning from one state to another in one time step. In this case, $A$ is given by:\n",
        "$$A = \\begin{bmatrix}\n",
        "0 & 1 & 0 & 0 & 0 \\\\\n",
        "\\frac{a}{a+b} & 0 & \\frac{b}{a+b} & 0 & 0 \\\\\n",
        "0 & \\frac{a}{a+b} & 0 & \\frac{b}{a+b} & 0 \\\\\n",
        "0 & 0 & \\frac{a}{a+b} & 0 & \\frac{b}{a+b} \\\\\n",
        "0 & 0 & 0 & 1 & 0\n",
        "\\end{bmatrix}$$\n",
        "\n",
        "The CTMC $Y_t$ has a rate matrix $Q$ (let us change its name just to be clearer), which describes the rates at which the chain transitions from one state to another. In this case, $Q$ is given by:\n",
        "\n",
        "$$Q = \\begin{bmatrix}\n",
        "-b & b & 0 & 0 & 0 \\\\\n",
        "a & -(a+b) & b & 0 & 0 \\\\\n",
        "0 & a & -(a+b) & b & 0 \\\\\n",
        "0 & 0 & a & -(a+b) & b \\\\\n",
        "0 & 0 & 0 & a & -a\n",
        "\\end{bmatrix}$$\n",
        "\n",
        "The relation between the two processes is that $X_t$ is a discrete-time approximation of $Y_t$. We can easily see that we can obtain Q from A executing the following step:\n",
        "\n",
        "- Define a time interval $\\Delta t$.\n",
        "- For each transition in the DTMC, calculate the transition probability per unit time, i.e., the rate $a_{i,j}$ of going from state $i$ to state $j$ in $\\Delta t$.\n",
        "- Calculate the diagonal elements of the rate matrix $Q$ as $q_{i,i} = -\\sum_{j\\neq i} a_{i,j}$, i.e., the negative sum of the rates leaving each state $i$.\n",
        "- Fill the off-diagonal elements of $Q$ with the transition rates $a_{i,j}$.\n",
        "- Multiply each row of A by the corresponding diagonal element of Q. \n",
        "\n",
        "This is because the diagonal elements of Q represent the negative sum of the rates of leaving each state, while the off-diagonal elements of Q represent the rates of transitioning between states.\n",
        "\n",
        "As $\\Delta t$ goes to zero, we get exactly the CTMC from the DTMC."
      ],
      "metadata": {
        "id": "h1jl49ZiW78A"
      }
    }
  ]
}