{
 "cells": [
  {
   "cell_type": "markdown",
   "id": "8227eb7e",
   "metadata": {},
   "source": [
    "# Second SDMS Assignment\n",
    "## Deadine: 17/05/23\n",
    "[![Open in Colab](https://colab.research.google.com/assets/colab-badge.svg)](https://colab.research.google.com/github/guglielmopadula/StochasticModelling2022-2023/blob/main/SecondAssignment.ipynb)\n",
    "\n",
    "- Send your assignment to my email: guglielmo.padula@studenti.units.it before the 00:00 AM of the day after the deadiline.\n",
    "\n",
    "## Exercise 1\n",
    "Let $X_{t}$ a DTMC with stochastic matrix $A= \\begin{bmatrix} 0 & 1 & 0 & 0 &0  \\\\  \\frac{a}{a+b} & 0 & \\frac{b}{a+b} & 0 & 0 \\\\ 0 & \\frac{a}{a+b} & 0 & \\frac{b}{a+b} & 0 \\\\ 0 & 0 & \\frac{a}{a+b} & 0 & \\frac{b}{a+b} \\\\ 0 & 0 & 0 & 1 & 0 \\end{bmatrix}$ with $a=3, b=2$.\n",
    "- Prove that it is irreducible\n",
    "- Prove with probability simulation and with eigenvalues analysis that the DTMC has only a stationary distribution howewer that there is no convergence to that probability.\n",
    "- Prove that there can't be trajectory convergence and simulate some trajectories\n",
    "\n",
    "## Exercise 2\n",
    "\n",
    "Let $Y_{t}$ a (birth death) CTMC with rate matrix $A= \\begin{bmatrix} -b & b & 0 & 0 &0  \\\\  a & -{a-b} & {b} & 0 & 0 \\\\ 0 & a & -a-b & b & 0 \\\\ 0 & 0 & a & -a-b & b \\\\ 0 & 0 & 0 & a & -a \\end{bmatrix}$ with $a=3, b=2$.\n",
    "\n",
    "Remember that if $\\lambda_{i}=q_{i,i+1}$ and $\\mu_{i}=q_{i,i-1}$, $i=0,...,N-1$ then the stationary distribution $\\pi$ has values\n",
    "$\\pi_1=\\frac{1}{1+\\sum_{k=1}^\\infty\\prod_{i=1}^{k}\\frac{\\lambda_{i-1}}{\\mu_i}}$  and \n",
    "$\\pi_k=\\pi_0\\prod_{i=1}^k\\frac{\\lambda_{i-1}}{\\mu_i},\\quad k=1,\\ldots,N-1$\n",
    "\n",
    "- Calculate the stationary distribution of the CTMC.\n",
    "- Prove with probability simulation and with eigenvalues analysis that the CTMC converges to that stationary distribution.\n",
    "- Simulate some trajectories \n",
    "\n",
    "## Exercise 3 (optional)\n",
    "What is the relation between $Y_{t}$ and $X_{t}$?"
   ]
  },
  {
   "cell_type": "code",
   "execution_count": null,
   "id": "2f0111de",
   "metadata": {},
   "outputs": [],
   "source": []
  }
 ],
 "metadata": {
  "kernelspec": {
   "display_name": "Python 3 (ipykernel)",
   "language": "python",
   "name": "python3"
  },
  "language_info": {
   "codemirror_mode": {
    "name": "ipython",
    "version": 3
   },
   "file_extension": ".py",
   "mimetype": "text/x-python",
   "name": "python",
   "nbconvert_exporter": "python",
   "pygments_lexer": "ipython3",
   "version": "3.10.6"
  }
 },
 "nbformat": 4,
 "nbformat_minor": 5
}
